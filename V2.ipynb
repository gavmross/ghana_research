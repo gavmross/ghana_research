{
 "cells": [
  {
   "attachments": {},
   "cell_type": "markdown",
   "metadata": {},
   "source": [
    "# Model V1\n",
    "The three indicators being used are NDVI, rainfall, and land surface temperature. \n",
    "### About the Data \n",
    " - Each indicator is a mean value from June 20 to November 1 (the estimated growing season)\n",
    " - Image collections are not filtered for cloudiness upon data collection; this leaves chance for obscured numbers \n",
    " - Years are from 2000 to 2020\n",
    " - The crop yield data is only for maize \n",
    " - I control naming conventions of data from GEE, if needed I can go back and download it again\n",
    " - NDVI is a 16 day average and is prefiltered for clear images\n",
    "\n",
    " ### Improvements\n",
    "\n",
    "DATA (1): add this data to model\n",
    " - EVI \n",
    " - Soil moisture (at different depths)\n",
    " - NDWI  \n",
    "  \n",
    "TIME (2): optimize time frame to frame when indicators most impact yields\n",
    " - adjust time frame\n",
    " - maybe use subset of data, an individual year, and figure out which months are best \n",
    " - stratify by month to figure out which months are most important \n",
    "  \n",
    "CROP DATA (3)\n",
    " - add dummy variable for crop\n",
    " - standardize crop yield -- group by crop (.groupby('crop').mean()/std() to get each mean/std)\n",
    " - crop masking algorithm (4) -- only export data from areas with crops\n",
    "\n",
    "REGRESSIONS (5)\n",
    " - using lasso, elastic net, and ridge (maybe)"
   ]
  },
  {
   "cell_type": "code",
   "execution_count": 2,
   "metadata": {},
   "outputs": [],
   "source": [
    "import pandas as pd \n",
    "import numpy as np \n",
    "import matplotlib.pyplot as plt \n",
    "import os \n",
    "import seaborn as sns\n",
    "from sklearn.linear_model import LinearRegression\n",
    "from sklearn import datasets\n",
    "import statsmodels.api as sm\n",
    "from stargazer.stargazer import Stargazer, LineLocation\n",
    "from sklearn.model_selection import train_test_split \n",
    "from sklearn.linear_model import LinearRegression\n",
    "from sklearn.metrics import mean_squared_error\n",
    "from joblib import dump, load\n",
    "from sklearn.preprocessing import PolynomialFeatures\n",
    "from sklearn.model_selection import cross_val_score"
   ]
  },
  {
   "cell_type": "code",
   "execution_count": 11,
   "metadata": {},
   "outputs": [],
   "source": [
    "################## Functions For Cleaning ##################\n",
    "def create_dict(dir, dict):\n",
    "    '''Params dir and dict are the directory name and dictionary to store dataframes in'''\n",
    "    for filename in os.listdir(dir):\n",
    "        fpath = os.path.join(dir, filename)         # creates the file path name\n",
    "        if os.path.isfile(fpath):                   # make sure the file is real\n",
    "            year = filename[:4]                     # year is at index 0-3 in filename\n",
    "            dict[int(year)] = pd.read_csv(fpath)    # input dictionary now has key of year and value of df for that year\n",
    "\n",
    "def reorder(dict):\n",
    "    sorted_keys = sorted(list(dict.keys()))\n",
    "    sorted_dict = {i: dict[i] for i in sorted_keys}\n",
    "    return sorted_dict\n",
    "\n",
    "def clean_dfs(dict, indicator):\n",
    "    '''dict is dictionary of dfs to clean, indicator is name value column of each df. This can\n",
    "    be found in the mean_ columns above. Last line sets index to district name to make \n",
    "    concat all dfs easier.'''\n",
    "    for k, v in dict.items():\n",
    "        year = k\n",
    "        v.drop(columns=['system:index', '.geo'], inplace=True)\n",
    "        v.rename({f'mean_{indicator}': f'{indicator}'+str(year)}, axis=1, inplace=True)\n",
    "        v.set_index(['district_name'], inplace=True)\n",
    "\n",
    "################## Uploading Files ##################\n",
    "# name directories in file path \n",
    "ndvi_dir = 'mean_ndvi'\n",
    "lst_dir = 'mean_lst'\n",
    "rain_dir = 'mean_rainfall'\n",
    "# create dictionaries to store each individual df\n",
    "ndvi_dict = {}\n",
    "lst_dict = {}\n",
    "rain_dict = {}\n",
    "\n",
    "yields = pd.read_excel('/Users/gavmross/Desktop/School/cua_spring_23/ghana/MOFA_YieldData_Maize.xlsx')\n",
    "key = pd.read_excel(\"/Users/gavmross/Desktop/School/cua_spring_23/ghana/DistrictKey.xlsx\")\n",
    "\n",
    "################## Cleaning Indicator Data ##################\n",
    "# create dictionaries with k:v = year:dataframe of that year/indicator\n",
    "create_dict(ndvi_dir, ndvi_dict)\n",
    "create_dict(lst_dir, lst_dict)\n",
    "create_dict(rain_dir, rain_dict)\n",
    "\n",
    "# reorder dict keys chronologically \n",
    "ndvi_dict = reorder(ndvi_dict)\n",
    "lst_dict = reorder(lst_dict)\n",
    "rain_dict = reorder(rain_dict)\n",
    "\n",
    "# clean dfs\n",
    "clean_dfs(ndvi_dict, 'ndvi')\n",
    "clean_dfs(lst_dict, 'lst')\n",
    "clean_dfs(rain_dict, 'rain')\n",
    "\n",
    "# create one dataframe for each indicator\n",
    "ndvi_df = pd.concat(ndvi_dict.values(), axis=1)\n",
    "lst_df = pd.concat(lst_dict.values(), axis=1)\n",
    "rain_df = pd.concat(rain_dict.values(), axis=1)\n",
    "\n",
    "# drop Tempane because it is not included in Yield data\n",
    "rain_df.drop(\"Tempane\", inplace=True)\n",
    "ndvi_df.drop(\"Tempane\", inplace=True)\n",
    "lst_df.drop(\"Tempane\", inplace=True)\n",
    "\n",
    "# turn dfs from wide to long format\n",
    "ndvi_df.reset_index(inplace=True)\n",
    "ndvi_final = pd.wide_to_long(ndvi_df, 'ndvi', 'district_name', 'year')\n",
    "lst_df.reset_index(inplace=True)\n",
    "lst_final = pd.wide_to_long(lst_df, 'lst', 'district_name', 'year')\n",
    "rain_df.reset_index(inplace=True)\n",
    "rain_final = pd.wide_to_long(rain_df, 'rain', 'district_name', 'year')\n",
    "\n",
    "# merge indicators dfs into one df \n",
    "indic_df = ndvi_final.join([lst_final, rain_final])\n",
    "\n",
    "################## Cleaning Yield Data ##################\n",
    "# drop district in yield data not in indicator data\n",
    "yields = yields[yields['DistID'] !=38]\n",
    "\n",
    "# rename key columns\n",
    "key.rename({\"Dist\": \"District ID\", 'Unnamed: 1': \"District Name\"}, inplace=True, axis=1)\n",
    "\n",
    "#create mapper for district ID and district naem\n",
    "mapper = dict(zip(key['District ID'], key['District Name']))\n",
    "\n",
    "# map district name to district ID\n",
    "yields['DistName'] = yields['DistID'].map(mapper)\n",
    "yields = yields[['DistID', 'DistName', 'Year', 'Yield', 'Crop']]        # reorder columns\n",
    "yields.drop(['Crop', 'DistID'], axis=1, inplace=True)                   # once i have mapped names, do not need ID anymore\n",
    "\n",
    "# sort by year then name to get it in same format as indicator df\n",
    "yields_sort = yields.sort_values(by=['Year', 'DistName'])\n",
    "# rename to have same naming conventions as other dfs\n",
    "yields_final = yields_sort.rename({'DistName': 'district_name', 'Year': 'year', 'Yield': 'yield'}, axis=1)\n",
    "\n",
    "# final df is only 2000 to 2020\n",
    "yields_final = yields_final.loc[(yields_final['year'] > 1999) & (yields_final['year'] < 2021)]\n",
    "yields_final.reset_index(inplace=True, drop=True)\n",
    "\n",
    "################## Combine Indicator and Yield Data ##################\n",
    "# rest index first to order it properly \n",
    "indic_df.reset_index(inplace=True)\n",
    "# strip all space from district names to make naming convention same as yield data\n",
    "indic_df['district_name'] = indic_df['district_name'].str.replace(' ', '')\n",
    "# sort by year and district name to make it same as yield \n",
    "indic_final = indic_df.sort_values(by=['year', 'district_name'])\n",
    "# reset indices so merging can take place\n",
    "yields_final.reset_index(drop=True, inplace=True)\n",
    "indic_final.reset_index(drop=True, inplace=True)\n",
    "\n",
    "# create a dictionary that is k:v = indic_names:yields_names for comparison purposes \n",
    "# save indicator and yield data district names to compare\n",
    "indic_names = indic_final['district_name'].unique()\n",
    "yields_names = yields_final['district_name'].unique()\n",
    "# turn dict into df for filtering purposes (could just turn series into df)\n",
    "name_dict = dict(zip(indic_names, yields_names))\n",
    "name_df = pd.DataFrame.from_dict(name_dict, orient='index')\n",
    "name_df.reset_index(inplace=True)\n",
    "name_df.columns=['indic', 'yield']\n",
    "name_df.loc[name_df['indic'] != name_df['yield']]                       # filter for names that do not match \n",
    "\n",
    "# add yield col into indicator df\n",
    "indic_final['yield'] = yields_final['yield']\n",
    "indic_final\n",
    "\n",
    "################## Prep Data for Model ##################\n",
    "# rename to model df\n",
    "model_df = indic_final\n",
    "#sns.pairplot(model_df)\n",
    "\n",
    "# cannot have NAs in ML model, for now just going to drop it but can come up with better solution\n",
    "model_df.isna().sum()\n",
    "# drop rows with na in them, lost 153 rows \n",
    "model_df.dropna(axis=0, how='any', inplace=True)"
   ]
  },
  {
   "cell_type": "code",
   "execution_count": 12,
   "metadata": {},
   "outputs": [
    {
     "name": "stdout",
     "output_type": "stream",
     "text": [
      "Lowest test RMSE Complexity Level:  1\n",
      "Corresponding lowest test RMSE:  0.523717215995426\n"
     ]
    }
   ],
   "source": [
    "################## Regression with Cross Validate Holdout ##################\n",
    "# not using district name because it is categorical\n",
    "X = model_df.drop(['yield', 'district_name'], axis=1)\n",
    "Y = model_df['yield']\n",
    "\n",
    "# create training and holdout\n",
    "X_train, X_holdout, Y_train, Y_holdout = train_test_split(X, Y, test_size=.1, random_state=101) # test size is smaller because it is holdout\n",
    "\n",
    "# for loop to iterate over polynomial complexity \n",
    "rmse_dict = {}\n",
    "\n",
    "for i in range(1, 7):\n",
    "    # create polynomial converter for degree in for loop \n",
    "    poly_convert = PolynomialFeatures(degree=1, include_bias=False)\n",
    "    # convert X_train into polynomial variables \n",
    "    poly_X_train = poly_convert.fit_transform(X_train)\n",
    "    # create model \n",
    "    model = LinearRegression(fit_intercept=True)\n",
    "    # create scores used in cross validation\n",
    "    scores = cross_val_score(model, poly_X_train, Y_train, scoring='neg_mean_squared_error', cv=7)\n",
    "    # store performance metric \n",
    "    RMSE = np.sqrt(abs(scores).mean())\n",
    "    rmse_dict[i] = RMSE\n",
    "\n",
    "print(\"Lowest test RMSE Complexity Level: \", min(rmse_dict, key=rmse_dict.get))\n",
    "print(\"Corresponding lowest test RMSE: \", min(rmse_dict.values()))"
   ]
  },
  {
   "cell_type": "code",
   "execution_count": 18,
   "metadata": {},
   "outputs": [
    {
     "name": "stdout",
     "output_type": "stream",
     "text": [
      "RMSE:  0.7990690080985668\n",
      "RMSE as Percent of Holdout Std:  0.9094100241525677\n"
     ]
    }
   ],
   "source": [
    "################## Final Model: Linear ##################\n",
    "# do not need polynomial converter cause best model is linear \n",
    "model = LinearRegression(fit_intercept=True)\n",
    "model.fit(X_train, Y_train)\n",
    "\n",
    "# predict using holdout indpendent variables and compare Yhat with Yholdout \n",
    "Yhat_holdout = model.predict(X_holdout)\n",
    "\n",
    "RMSE = np.sqrt(mean_squared_error(Y_holdout, Yhat_holdout))\n",
    "print(\"RMSE: \", RMSE)\n",
    "print(\"RMSE as Percent of Holdout Std: \", RMSE/Y_holdout.std())"
   ]
  },
  {
   "cell_type": "code",
   "execution_count": 19,
   "metadata": {},
   "outputs": [
    {
     "data": {
      "text/html": [
       "<table style=\"text-align:center\"><tr><td colspan=\"2\" style=\"border-bottom: 1px solid black\"></td></tr><tr><td style=\"text-align:left\"></td><td colspan=\"1\"><em>Dependent variable:yield</em></td></tr><tr><td style=\"text-align:left\"></td><tr><td style=\"text-align:left\"></td><td>(1)</td></tr><tr><td colspan=\"2\" style=\"border-bottom: 1px solid black\"></td></tr><tr><td style=\"text-align:left\">const</td><td>-100.100<sup>***</sup></td></tr><tr><td style=\"text-align:left\"></td><td>(6.281)</td></tr><tr><td style=\"text-align:left\">lst</td><td>-0.000<sup></sup></td></tr><tr><td style=\"text-align:left\"></td><td>(0.000)</td></tr><tr><td style=\"text-align:left\">ndvi</td><td>0.000<sup></sup></td></tr><tr><td style=\"text-align:left\"></td><td>(0.000)</td></tr><tr><td style=\"text-align:left\">rain</td><td>0.055<sup>***</sup></td></tr><tr><td style=\"text-align:left\"></td><td>(0.019)</td></tr><tr><td style=\"text-align:left\">year</td><td>0.051<sup>***</sup></td></tr><tr><td style=\"text-align:left\"></td><td>(0.003)</td></tr><td colspan=\"2\" style=\"border-bottom: 1px solid black\"></td></tr><tr><td style=\"text-align: left\">Observations</td><td>944</td></tr><tr><td style=\"text-align: left\">R<sup>2</sup></td><td>0.245</td></tr><tr><td style=\"text-align: left\">Adjusted R<sup>2</sup></td><td>0.242</td></tr><tr><td style=\"text-align: left\">Residual Std. Error</td><td>0.556 (df=939)</td></tr><tr><td style=\"text-align: left\">F Statistic</td><td>76.290<sup>***</sup> (df=4; 939)</td></tr><tr><td colspan=\"2\" style=\"border-bottom: 1px solid black\"></td></tr><tr><td style=\"text-align: left\">Note:</td>\n",
       " <td colspan=\"1\" style=\"text-align: right\">\n",
       "  <sup>*</sup>p&lt;0.1;\n",
       "  <sup>**</sup>p&lt;0.05;\n",
       "  <sup>***</sup>p&lt;0.01\n",
       " </td></tr></table>"
      ],
      "text/plain": [
       "<stargazer.stargazer.Stargazer at 0x1422038d0>"
      ]
     },
     "execution_count": 19,
     "metadata": {},
     "output_type": "execute_result"
    }
   ],
   "source": [
    "################## Output Regression Results ##################\n",
    "model_sm = sm.OLS(endog=Y, exog=sm.add_constant(X)).fit()\n",
    "table = Stargazer([model_sm])\n",
    "table"
   ]
  },
  {
   "cell_type": "code",
   "execution_count": 20,
   "metadata": {},
   "outputs": [
    {
     "data": {
      "text/plain": [
       "<matplotlib.lines.Line2D at 0x1424f0850>"
      ]
     },
     "execution_count": 20,
     "metadata": {},
     "output_type": "execute_result"
    },
    {
     "data": {
      "image/png": "[encoded data removed]",
      "text/plain": [
       "<Figure size 640x480 with 1 Axes>"
      ]
     },
     "metadata": {},
     "output_type": "display_data"
    }
   ],
   "source": [
    "################## Analyze Residuals ##################\n",
    "Yhat_resid = model.predict(X)\n",
    "residuals = Yhat_resid-Y\n",
    "sns.scatterplot(x=Y, y=residuals)\n",
    "plt.axhline(y=0, color='r', linestyle='--')"
   ]
  }
 ],
 "metadata": {
  "kernelspec": {
   "display_name": "ghana_env",
   "language": "python",
   "name": "python3"
  },
  "language_info": {
   "codemirror_mode": {
    "name": "ipython",
    "version": 3
   },
   "file_extension": ".py",
   "mimetype": "text/x-python",
   "name": "python",
   "nbconvert_exporter": "python",
   "pygments_lexer": "ipython3",
   "version": "3.11.0"
  },
  "orig_nbformat": 4,
  "vscode": {
   "interpreter": {
    "hash": "856fc35d0aadd12116d58878105b2e14050acbd1369d0e1604998027ec499ac5"
   }
  }
 },
 "nbformat": 4,
 "nbformat_minor": 2
}
